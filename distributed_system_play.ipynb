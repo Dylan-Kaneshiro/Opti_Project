{
 "cells": [
  {
   "cell_type": "code",
   "execution_count": 3,
   "metadata": {},
   "outputs": [
    {
     "name": "stderr",
     "output_type": "stream",
     "text": [
      "\u001b[32m\u001b[1m   Resolving\u001b[22m\u001b[39m package versions...\n",
      "\u001b[32m\u001b[1m  No Changes\u001b[22m\u001b[39m to `~/.julia/environments/v1.10/Project.toml`\n",
      "\u001b[32m\u001b[1m  No Changes\u001b[22m\u001b[39m to `~/.julia/environments/v1.10/Manifest.toml`\n"
     ]
    }
   ],
   "source": [
    "import Pkg\n",
    "Pkg.add(\"LightGraphs\")"
   ]
  },
  {
   "cell_type": "markdown",
   "metadata": {},
   "source": [
    "# Graphs Example"
   ]
  },
  {
   "cell_type": "markdown",
   "metadata": {},
   "source": [
    "## Connected Components"
   ]
  },
  {
   "cell_type": "code",
   "execution_count": 1,
   "metadata": {},
   "outputs": [
    {
     "data": {
      "text/plain": [
       "2-element Vector{Vector{Int64}}:\n",
       " [1, 2]\n",
       " [3]"
      ]
     },
     "execution_count": 1,
     "metadata": {},
     "output_type": "execute_result"
    }
   ],
   "source": [
    "using LightGraphs  # For connectivity checks in the callback\n",
    "\n",
    "z_vals = [0 1 0; 1 0 0; 0 0 0]\n",
    "\n",
    "# Check for connectivity using a graph representation\n",
    "g = SimpleGraph(3)\n",
    "for i in 1:3\n",
    "    for i_prime in i+1:3\n",
    "        if z_vals[i, i_prime] > 0.5\n",
    "            add_edge!(g, i, i_prime)\n",
    "        end\n",
    "    end\n",
    "end\n",
    "\n",
    "# Find connected components in the graph\n",
    "components = connected_components(g)"
   ]
  },
  {
   "cell_type": "markdown",
   "metadata": {},
   "source": [
    "## Doubly connected components"
   ]
  },
  {
   "cell_type": "code",
   "execution_count": 4,
   "metadata": {},
   "outputs": [
    {
     "data": {
      "text/plain": [
       "merge_sets_union_find (generic function with 1 method)"
      ]
     },
     "execution_count": 4,
     "metadata": {},
     "output_type": "execute_result"
    }
   ],
   "source": [
    "using LightGraphs\n",
    "\n",
    "function merge_sets_union_find(set_of_sets::Set{Set{T}}) where T\n",
    "    # Step 1: Map each element to a unique subset\n",
    "    element_to_set = Dict{T, Set{T}}()\n",
    "    for subset in set_of_sets\n",
    "        for elem in subset\n",
    "            element_to_set[elem] = subset\n",
    "        end\n",
    "    end\n",
    "\n",
    "    # Step 2: Union subsets with overlapping elements\n",
    "    for subset in set_of_sets\n",
    "        # Find all subsets connected to the current subset\n",
    "        merged_subset = Set(subset)\n",
    "        for elem in subset\n",
    "            merged_subset = union(merged_subset, element_to_set[elem])\n",
    "        end\n",
    "\n",
    "        # Update the mapping for all elements in the merged subset\n",
    "        for elem in merged_subset\n",
    "            element_to_set[elem] = merged_subset\n",
    "        end\n",
    "    end\n",
    "\n",
    "    # Step 3: Collect unique subsets\n",
    "    return Set(values(element_to_set))\n",
    "end\n"
   ]
  },
  {
   "cell_type": "code",
   "execution_count": 5,
   "metadata": {},
   "outputs": [
    {
     "data": {
      "text/plain": [
       "add_strays (generic function with 1 method)"
      ]
     },
     "execution_count": 5,
     "metadata": {},
     "output_type": "execute_result"
    }
   ],
   "source": [
    "function add_strays(graph::AbstractGraph, sets_of_nodes::Set{Set{Int}})\n",
    "    # Collect all nodes in the given sets\n",
    "    nodes_in_sets = reduce(union, sets_of_nodes, init=Set{Int}())\n",
    "    \n",
    "    # Get all nodes in the graph\n",
    "    all_nodes = Set(1:nv(graph))\n",
    "    \n",
    "    # Find nodes not in any of the sets (strays)\n",
    "    stray_nodes = setdiff(all_nodes, nodes_in_sets)\n",
    "    \n",
    "    # Add each stray node as its own set\n",
    "    for stray in stray_nodes\n",
    "        push!(sets_of_nodes, Set([stray]))\n",
    "    end\n",
    "    \n",
    "    return sets_of_nodes\n",
    "end"
   ]
  },
  {
   "cell_type": "code",
   "execution_count": 6,
   "metadata": {},
   "outputs": [
    {
     "data": {
      "text/plain": [
       "doubly_connected_components (generic function with 1 method)"
      ]
     },
     "execution_count": 6,
     "metadata": {},
     "output_type": "execute_result"
    }
   ],
   "source": [
    "function doubly_connected_components(graph)\n",
    "    cycles = Set(Set(x) for x in filter(x->length(x)>2, simplecycles(DiGraph(graph))))\n",
    "    doubly_connected_components_no_strays = merge_sets_union_find(cycles)\n",
    "    return add_strays(graph, doubly_connected_components_no_strays)\n",
    "end"
   ]
  },
  {
   "cell_type": "code",
   "execution_count": 7,
   "metadata": {},
   "outputs": [
    {
     "data": {
      "text/plain": [
       "Set{Set{Int64}} with 4 elements:\n",
       "  Set([5])\n",
       "  Set([7])\n",
       "  Set([4, 2, 3, 1])\n",
       "  Set([6])"
      ]
     },
     "execution_count": 7,
     "metadata": {},
     "output_type": "execute_result"
    }
   ],
   "source": [
    "# Create a graph\n",
    "graph = SimpleGraph(7)\n",
    "add_edge!(graph, 1, 2)\n",
    "add_edge!(graph, 2, 4)\n",
    "add_edge!(graph, 4, 3)\n",
    "add_edge!(graph, 3, 1)\n",
    "add_edge!(graph, 2, 3)\n",
    "\n",
    "add_edge!(graph, 4, 5)\n",
    "add_edge!(graph, 5, 6)\n",
    "add_edge!(graph, 6, 7)\n",
    "\n",
    "\n",
    "doubly_connected_components(graph)\n"
   ]
  },
  {
   "cell_type": "markdown",
   "metadata": {},
   "source": [
    "# Gurobi Callbacks"
   ]
  },
  {
   "cell_type": "code",
   "execution_count": 13,
   "metadata": {},
   "outputs": [
    {
     "name": "stderr",
     "output_type": "stream",
     "text": [
      "WARNING: could not import JuMP.MathOptInterface into Main\n"
     ]
    }
   ],
   "source": [
    "import JuMP.MathOptInterface"
   ]
  },
  {
   "cell_type": "code",
   "execution_count": 12,
   "metadata": {},
   "outputs": [],
   "source": [
    "import MathOptInterface as MOI"
   ]
  },
  {
   "cell_type": "code",
   "execution_count": 15,
   "metadata": {},
   "outputs": [
    {
     "name": "stdout",
     "output_type": "stream",
     "text": [
      "Set parameter Username\n",
      "Academic license - for non-commercial use only - expires 2025-08-18\n"
     ]
    },
    {
     "ename": "LoadError",
     "evalue": "UndefVarError: `MathOptInterface` not defined",
     "output_type": "error",
     "traceback": [
      "UndefVarError: `MathOptInterface` not defined",
      "",
      "Stacktrace:",
      " [1] top-level scope",
      "   @ In[15]:60"
     ]
    }
   ],
   "source": [
    "using JuMP\n",
    "using Gurobi\n",
    "using LightGraphs  # For connectivity checks in the callback\n",
    "using LinearAlgebra  # For distance calculations\n",
    "import MathOptInterface as MOI  # Import MathOptInterface explicitly\n",
    "\n",
    "# Example data (modify as needed)\n",
    "n_facilities = 5  # Number of facilities\n",
    "n_customers = 10  # Number of customers\n",
    "k = 3  # Maximum number of facilities that can be selected\n",
    "\n",
    "# Randomly generate coordinates for facilities and customers\n",
    "facility_coords = rand(0:100, n_facilities, 2)  # Facility coordinates (x, y)\n",
    "customer_coords = rand(0:100, n_customers, 2)  # Customer coordinates (x, y)\n",
    "\n",
    "# Compute distances dynamically\n",
    "function euclidean_distance(coord1, coord2)\n",
    "    return norm(coord1 - coord2)\n",
    "end\n",
    "\n",
    "# Facility-to-customer distances\n",
    "d = [euclidean_distance(facility_coords[i, :], customer_coords[j, :]) for i in 1:n_facilities, j in 1:n_customers]\n",
    "\n",
    "# Facility-to-facility distances\n",
    "D = [i == i_prime ? 0 : euclidean_distance(facility_coords[i, :], facility_coords[i_prime, :]) for i in 1:n_facilities, i_prime in 1:n_facilities]\n",
    "\n",
    "# Cost parameters\n",
    "C = rand(100:200, n_facilities)  # Facility setup costs\n",
    "w = 5  # Cost per unit length of wire\n",
    "F = 10  # Cost per unit length of fiber optic cable\n",
    "\n",
    "# Initialize model\n",
    "model = Model(Gurobi.Optimizer)\n",
    "\n",
    "# Decision variables\n",
    "@variable(model, x[1:n_facilities], Bin)  # Facility setup decision\n",
    "@variable(model, 0 <= y[1:n_facilities, 1:n_customers] <= 1)  # Fractional connections\n",
    "@variable(model, z[i=1:n_facilities, i_prime=i+1:n_facilities], Bin)  # Facility-to-facility connections only for i < i_prime\n",
    "\n",
    "# Objective function: Minimize total costs\n",
    "@objective(model, Min, sum(C[i] * x[i] for i in 1:n_facilities) +\n",
    "                          sum(w * d[i, j] * y[i, j] for i in 1:n_facilities, j in 1:n_customers) +\n",
    "                          sum(F * D[i, i_prime] * z[i, i_prime] for i in 1:n_facilities, i_prime in i+1:n_facilities))\n",
    "\n",
    "# Constraints\n",
    "# 1. Customer demand satisfaction\n",
    "@constraint(model, [j=1:n_customers], sum(y[i, j] for i in 1:n_facilities) == 1)\n",
    "\n",
    "# 2. Wires only for open facilities\n",
    "@constraint(model, [i=1:n_facilities, j=1:n_customers], y[i, j] <= x[i])\n",
    "\n",
    "# 3. Fiber optic cables only for open facilities\n",
    "@constraint(model, [i=1:n_facilities, i_prime=i+1:n_facilities], z[i, i_prime] <= x[i])\n",
    "@constraint(model, [i=1:n_facilities, i_prime=i+1:n_facilities], z[i, i_prime] <= x[i_prime])\n",
    "\n",
    "# 4. Limit the number of selected facilities\n",
    "@constraint(model, sum(x[i] for i in 1:n_facilities) <= k)\n",
    "\n",
    "# 5. Connectivity callback to enforce at least 2 cables between partitions\n",
    "function connectivity_callback(context::MathOptInterface.CallbackContext)\n",
    "    # Get the values of the x and z variables\n",
    "    x_vals = MOI.get(context, MOI.CallbackVariablePrimal, x)\n",
    "    z_vals = Dict((i, i_prime) => MOI.get(context, MOI.CallbackVariablePrimal, z[i, i_prime]) for i in 1:n_facilities for i_prime in i+1:n_facilities)\n",
    "\n",
    "    # Identify selected facilities\n",
    "    selected_facilities = [i for i in 1:n_facilities if x_vals[i] > 0.5]\n",
    "\n",
    "    # Skip if fewer than 2 facilities are selected\n",
    "    if length(selected_facilities) <= 1\n",
    "        return\n",
    "    end\n",
    "\n",
    "    # Check for connectivity using a graph representation\n",
    "    g = SimpleGraph(n_facilities)\n",
    "    for i in 1:n_facilities\n",
    "        for i_prime in i+1:n_facilities\n",
    "            if z_vals[(i, i_prime)] > 0.5\n",
    "                add_edge!(g, i, i_prime)\n",
    "            end\n",
    "        end\n",
    "    end\n",
    "\n",
    "    # Find connected components in the graph\n",
    "    components = connected_components(g)\n",
    "\n",
    "    # For each disconnected subset, enforce the connectivity constraint\n",
    "    for component in components\n",
    "        complement = setdiff(1:n_facilities, component)\n",
    "        if !isempty(component) && !isempty(complement)\n",
    "            MOI.submit(context, MOI.LazyConstraint,\n",
    "                sum(z[min(i, i_prime), max(i, i_prime)] for i in component, i_prime in complement) >= 2)\n",
    "        end\n",
    "    end\n",
    "end\n",
    "\n",
    "# Attach the lazy constraint callback\n",
    "MOI.set(model, MOI.LazyConstraintCallback(), connectivity_callback)\n",
    "\n",
    "# Solve the model\n",
    "optimize!(model)\n",
    "\n",
    "# Output results\n",
    "println(\"Optimal Objective Value: \", objective_value(model))\n",
    "println(\"Facilities to open: \", [i for i in 1:n_facilities if value(x[i]) > 0.5])\n",
    "println(\"Customer-facility connections (y):\")\n",
    "for i in 1:n_facilities, j in 1:n_customers\n",
    "    if value(y[i, j]) > 1e-6  # Small threshold to filter non-zero values\n",
    "        println(\"  Customer $j -> Facility $i: \", value(y[i, j]))\n",
    "    end\n",
    "end\n",
    "println(\"Facility-facility connections (z):\")\n",
    "for i in 1:n_facilities, i_prime in i+1:n_facilities\n",
    "    if value(z[i, i_prime]) > 0.5\n",
    "        println(\"  Facility $i <-> Facility $i_prime\")\n",
    "    end\n",
    "end\n"
   ]
  },
  {
   "cell_type": "code",
   "execution_count": 18,
   "metadata": {},
   "outputs": [
    {
     "name": "stdout",
     "output_type": "stream",
     "text": [
      "Set parameter Username\n",
      "Academic license - for non-commercial use only - expires 2025-08-18\n",
      "Set parameter LazyConstraints to value 1\n",
      "Gurobi Optimizer version 11.0.2 build v11.0.2rc0 (mac64[arm] - Darwin 23.6.0 23G93)\n",
      "\n",
      "CPU model: Apple M1\n",
      "Thread count: 8 physical cores, 8 logical processors, using up to 8 threads\n",
      "\n",
      "Optimize a model with 0 rows, 2 columns and 0 nonzeros\n",
      "Model fingerprint: 0x1cb4e750\n",
      "Variable types: 0 continuous, 2 integer (0 binary)\n",
      "Coefficient statistics:\n",
      "  Matrix range     [0e+00, 0e+00]\n",
      "  Objective range  [1e+00, 1e+00]\n",
      "  Bounds range     [2e+00, 2e+00]\n",
      "  RHS range        [0e+00, 0e+00]\n",
      "Presolve time: 0.00s\n",
      "Presolved: 0 rows, 2 columns, 0 nonzeros\n",
      "Variable types: 0 continuous, 2 integer (0 binary)\n",
      "\n",
      "Root relaxation: objective 2.000000e+00, 1 iterations, 0.00 seconds (0.00 work units)\n",
      "\n",
      "    Nodes    |    Current Node    |     Objective Bounds      |     Work\n",
      " Expl Unexpl |  Obj  Depth IntInf | Incumbent    BestBd   Gap | It/Node Time\n",
      "\n",
      "*    0     0               0       2.0000000    2.00000  0.00%     -    0s\n",
      "\n",
      "Cutting planes:\n",
      "  Lazy constraints: 1\n",
      "\n",
      "Explored 1 nodes (1 simplex iterations) in 0.00 seconds (0.00 work units)\n",
      "Thread count was 8 (of 8 available processors)\n",
      "\n",
      "Solution count 1: 2 \n",
      "\n",
      "Optimal solution found (tolerance 1.00e-04)\n",
      "Best objective 2.000000000000e+00, best bound 2.000000000000e+00, gap 0.0000%\n",
      "\n",
      "User-callback calls 81, time in user-callback 0.02 sec\n"
     ]
    },
    {
     "data": {
      "text/plain": [
       "\u001b[32m\u001b[1mTest Passed\u001b[22m\u001b[39m"
      ]
     },
     "execution_count": 18,
     "metadata": {},
     "output_type": "execute_result"
    }
   ],
   "source": [
    "using JuMP, Gurobi, Test\n",
    "\n",
    "model = direct_model(Gurobi.Optimizer())\n",
    "@variable(model, 0 <= x <= 2.5, Int)\n",
    "@variable(model, 0 <= y <= 2.5, Int)\n",
    "@objective(model, Max, y)\n",
    "cb_calls = Cint[]\n",
    "function my_callback_function(cb_data, cb_where::Cint)\n",
    "    # You can reference variables outside the function as normal\n",
    "    push!(cb_calls, cb_where)\n",
    "    # You can select where the callback is run\n",
    "    if cb_where != GRB_CB_MIPSOL && cb_where != GRB_CB_MIPNODE\n",
    "        return\n",
    "    end\n",
    "    # You can query a callback attribute using GRBcbget\n",
    "    if cb_where == GRB_CB_MIPNODE\n",
    "        resultP = Ref{Cint}()\n",
    "        GRBcbget(cb_data, cb_where, GRB_CB_MIPNODE_STATUS, resultP)\n",
    "        if resultP[] != GRB_OPTIMAL\n",
    "            return  # Solution is something other than optimal.\n",
    "        end\n",
    "    end\n",
    "    # Before querying `callback_value`, you must call:\n",
    "    Gurobi.load_callback_variable_primal(cb_data, cb_where)\n",
    "    x_val = callback_value(cb_data, x)\n",
    "    y_val = callback_value(cb_data, y)\n",
    "    # You can submit solver-independent MathOptInterface attributes such as\n",
    "    # lazy constraints, user-cuts, and heuristic solutions.\n",
    "    if y_val - x_val > 1 + 1e-6\n",
    "        con = @build_constraint(y - x <= 1)\n",
    "        MOI.submit(model, MOI.LazyConstraint(cb_data), con)\n",
    "    elseif y_val + x_val > 3 + 1e-6\n",
    "        con = @build_constraint(y + x <= 3)\n",
    "        MOI.submit(model, MOI.LazyConstraint(cb_data), con)\n",
    "    end\n",
    "    return\n",
    "end\n",
    "# You _must_ set this parameter if using lazy constraints.\n",
    "MOI.set(model, MOI.RawOptimizerAttribute(\"LazyConstraints\"), 1)\n",
    "MOI.set(model, Gurobi.CallbackFunction(), my_callback_function)\n",
    "optimize!(model)\n",
    "@test termination_status(model) == MOI.OPTIMAL\n",
    "@test primal_status(model) == MOI.FEASIBLE_POINT\n",
    "@test value(x) == 1\n",
    "@test value(y) == 2"
   ]
  },
  {
   "cell_type": "code",
   "execution_count": 24,
   "metadata": {},
   "outputs": [
    {
     "name": "stdout",
     "output_type": "stream",
     "text": [
      "Set parameter Username\n",
      "Academic license - for non-commercial use only - expires 2025-08-18\n",
      "Set parameter LazyConstraints to value 1\n",
      "Gurobi Optimizer version 11.0.2 build v11.0.2rc0 (mac64[arm] - Darwin 23.6.0 23G93)\n",
      "\n",
      "CPU model: Apple M1\n",
      "Thread count: 8 physical cores, 8 logical processors, using up to 8 threads\n",
      "\n",
      "Optimize a model with 0 rows, 2 columns and 0 nonzeros\n",
      "Model fingerprint: 0x1cb4e750\n",
      "Variable types: 0 continuous, 2 integer (0 binary)\n",
      "Coefficient statistics:\n",
      "  Matrix range     [0e+00, 0e+00]\n",
      "  Objective range  [1e+00, 1e+00]\n",
      "  Bounds range     [2e+00, 2e+00]\n",
      "  RHS range        [0e+00, 0e+00]\n",
      "Current solution: x = -0.0, y = 2.0\n",
      "CALLBACK!!!!!\n",
      "Current solution: x = 2.0, y = 2.0\n",
      "Found heuristic solution: objective 2.0000000\n",
      "Presolve time: 0.00s\n",
      "Presolved: 0 rows, 2 columns, 0 nonzeros\n",
      "Variable types: 0 continuous, 2 integer (0 binary)\n",
      "\n",
      "Explored 0 nodes (0 simplex iterations) in 0.00 seconds (0.00 work units)\n",
      "Thread count was 8 (of 8 available processors)\n",
      "\n",
      "Solution count 1: 2 \n",
      "\n",
      "Optimal solution found (tolerance 1.00e-04)\n",
      "Best objective 2.000000000000e+00, best bound 2.000000000000e+00, gap 0.0000%\n",
      "\n",
      "User-callback calls 66, time in user-callback 0.08 sec\n",
      "Optimal solution:\n",
      "Objective value: 2.0\n",
      "x = 2.0\n",
      "y = 2.0\n"
     ]
    }
   ],
   "source": [
    "using JuMP\n",
    "using Gurobi\n",
    "\n",
    "# Define the model\n",
    "model = direct_model(Gurobi.Optimizer())\n",
    "\n",
    "# Decision variables\n",
    "@variable(model, 0 <= x <= 2.5, Int)\n",
    "@variable(model, 0 <= y <= 2.5, Int)\n",
    "\n",
    "# Objective function\n",
    "@objective(model, Max, y)\n",
    "\n",
    "# Callback function\n",
    "function my_callback_function(cb_data, cb_where::Cint)\n",
    "    # Run only during solution callbacks\n",
    "    if cb_where != GRB_CB_MIPSOL\n",
    "        return\n",
    "    end\n",
    "\n",
    "    # Load the solution values for the current node\n",
    "    Gurobi.load_callback_variable_primal(cb_data, cb_where)\n",
    "    x_val = callback_value(cb_data, x)\n",
    "    y_val = callback_value(cb_data, y)\n",
    "\n",
    "    println(\"Current solution: x = $x_val, y = $y_val\")\n",
    "\n",
    "    # Add a lazy constraint if x + y > 3\n",
    "    if y_val - x_val > 1 + 1e-6\n",
    "        println(\"CALLBACK!!!!!\")\n",
    "        con = @build_constraint(y - x <= 1)\n",
    "        MOI.submit(model, MOI.LazyConstraint(cb_data), con)\n",
    "    end\n",
    "end\n",
    "\n",
    "# Enable lazy constraints in Gurobi\n",
    "MOI.set(model, MOI.RawOptimizerAttribute(\"LazyConstraints\"), 1)\n",
    "\n",
    "# Attach the callback\n",
    "MOI.set(model, Gurobi.CallbackFunction(), my_callback_function)\n",
    "\n",
    "# Solve the model\n",
    "optimize!(model)\n",
    "\n",
    "# Print the results\n",
    "if termination_status(model) == MOI.OPTIMAL\n",
    "    println(\"Optimal solution:\")\n",
    "    println(\"Objective value: \", objective_value(model))\n",
    "    println(\"x = \", value(x))\n",
    "    println(\"y = \", value(y))\n",
    "else\n",
    "    println(\"No optimal solution found.\")\n",
    "end\n"
   ]
  }
 ],
 "metadata": {
  "kernelspec": {
   "display_name": "Julia 1.10.4",
   "language": "julia",
   "name": "julia-1.10"
  },
  "language_info": {
   "file_extension": ".jl",
   "mimetype": "application/julia",
   "name": "julia",
   "version": "1.10.4"
  }
 },
 "nbformat": 4,
 "nbformat_minor": 2
}
